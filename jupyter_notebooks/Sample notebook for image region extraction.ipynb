{
 "cells": [
  {
   "cell_type": "markdown",
   "metadata": {},
   "source": [
    "## Quantifying fluorescence in Leica `.lif` files using ROI files"
   ]
  },
  {
   "cell_type": "markdown",
   "metadata": {},
   "source": [
    "The purpose of this notebook is to allow a user to extract `normalised total fluorescence intensity` from a region of images that have undergone `maximum intensity projection`.\n",
    "\n",
    "### The `.lif` file container format\n",
    "\n",
    "Leica `.lif` files are a many image container format. a `.lif` contains many `Series` which in turn have many `z-stacks`. The `Series` can be thought of as differing in their `x` and `y` co-ordinates, (so are pictures of different things or plates). Whereas the `z-stack` can be thought of as the `z` axis and makes up slices through the thing being observed under the objective.\n",
    "![series.png](series.png)\n",
    "\n",
    "### Maximum Intensity Projection\n",
    "\n",
    "A `max projection` is a way of collapsing the `z-stack` to create a single representative image. For each column of image pixels in the stack, the brightest is retained and passed into a final 'projected' image. \n",
    "![max_proj.png](max_proj.png)\n",
    "\n",
    "\n",
    "### Image Intensity Normalisation \n",
    "\n",
    "The images from the `.lif` file are converted from raw data to a scaled value. The scale for each collapsed image ranges from `0` to `255`. The total sum of all pixel values in a region of interest is reported.\n"
   ]
  },
  {
   "cell_type": "markdown",
   "metadata": {},
   "source": [
    "Cell image from `Bannach Reis, Karinna & De Carvalho Barros Côrtes, M.V. & Martins, Frederico & Filippi, Marta & Realino de Paula, José & Conceição, Edemilson. (2015). Characterization of rue extract and its potential for controlling rice blast. Pesquisa Agropecuária Brasileira. 50. 1121-1130. 10.1590/S0100-204X2015001200001. `"
   ]
  },
  {
   "cell_type": "markdown",
   "metadata": {},
   "source": [
    "### 1. Setting up the run folder\n",
    "\n",
    "Put a _single_ `.lif` and the ROI `.zip` files into a single folder. This will be the run folder. \n",
    "\n",
    "Run the code below and select the run folder using the file browser that appears."
   ]
  },
  {
   "cell_type": "code",
   "execution_count": 1,
   "metadata": {},
   "outputs": [
    {
     "data": {
      "application/vnd.jupyter.widget-view+json": {
       "model_id": "0feb671ea6a6483fb9d69da7f2e7c414",
       "version_major": 2,
       "version_minor": 0
      },
      "text/plain": [
       "VBox(children=(HTML(value='You have selected: <h3>/Users/macleand/Desktop/alice_images</h3>'), Button(descript…"
      ]
     },
     "metadata": {},
     "output_type": "display_data"
    }
   ],
   "source": [
    "import fluorseg as fs\n",
    "\n",
    "f = fs.FileBrowser()\n",
    "f.widget()\n"
   ]
  },
  {
   "cell_type": "markdown",
   "metadata": {},
   "source": [
    "### 2. Extracting the fluorescence data\n",
    "\n",
    "Run the code below to get the fluorescence data out of the `.lif` files.\n",
    "\n",
    "(This step can take a few minutes)"
   ]
  },
  {
   "cell_type": "code",
   "execution_count": 3,
   "metadata": {},
   "outputs": [],
   "source": [
    "run_folder = f.path\n",
    "result = fs.extract_volumes_for_rois(run_folder)\n",
    "\n"
   ]
  },
  {
   "cell_type": "markdown",
   "metadata": {},
   "source": [
    "### 3. Saving the numbers to a `.csv` and a report summary page.\n",
    "\n",
    "Run the code below to get the data into `.csv` format called `result.csv` and an image section summary. These files will be written to the same folder selected above.\n",
    "\n"
   ]
  },
  {
   "cell_type": "code",
   "execution_count": 4,
   "metadata": {},
   "outputs": [],
   "source": [
    "import os\n",
    "import csv\n",
    "\n",
    "h = fs.HtmlReport(result)\n",
    "html_file = os.path.join(run_folder, \"report_summary.html\" )\n",
    "with open(html_file, \"w\") as outhtml:\n",
    "    outhtml.write( h.write_html() )\n",
    "\n",
    "csv_file = os.path.join(run_folder, \"results.csv\")\n",
    "with open(csv_file, \"w\") as outcsv:\n",
    "    csvw = csv.writer(outcsv)\n",
    "    for row in fs.as_csv(result):\n",
    "        csvw.writerow(row)\n",
    "\n",
    "\n",
    "    "
   ]
  },
  {
   "cell_type": "code",
   "execution_count": null,
   "metadata": {},
   "outputs": [],
   "source": []
  }
 ],
 "metadata": {
  "kernelspec": {
   "display_name": "Python 3",
   "language": "python",
   "name": "python3"
  },
  "language_info": {
   "codemirror_mode": {
    "name": "ipython",
    "version": 3
   },
   "file_extension": ".py",
   "mimetype": "text/x-python",
   "name": "python",
   "nbconvert_exporter": "python",
   "pygments_lexer": "ipython3",
   "version": "3.6.7"
  }
 },
 "nbformat": 4,
 "nbformat_minor": 2
}
